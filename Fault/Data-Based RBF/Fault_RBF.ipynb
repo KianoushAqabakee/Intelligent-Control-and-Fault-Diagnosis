{
 "cells": [
  {
   "cell_type": "code",
   "execution_count": 1,
   "metadata": {},
   "outputs": [],
   "source": [
    "import numpy as np\n",
    "import matplotlib.pyplot as plt\n",
    "from sklearn.cluster import KMeans\n",
    "\n",
    "#\n",
    "class RBFnn:\n",
    "    def __init__(self, input_size, neuron_num, output_size):\n",
    "        self.L = output_size\n",
    "        self.N = input_size\n",
    "        self.M = neuron_num\n",
    "        self.mu = np.ones([input_size, neuron_num])\n",
    "        self.sigma = np.ones([input_size, neuron_num])\n",
    "        self.W = np.ones([neuron_num, output_size])\n",
    "        self.bias = np.zeros([1, output_size])\n",
    "    def center_init(self, x):\n",
    "        kmeans = KMeans(n_clusters=self.M).fit(x)#, random_state=0, n_init=\"auto\"\n",
    "        self.mu = kmeans.cluster_centers_.T\n",
    "    def forward(self, x):\n",
    "        phi = np.exp(-((np.expand_dims(x,-1)-np.expand_dims(self.mu,0))/np.expand_dims(self.sigma,0))**2)\n",
    "        phi = phi.prod(1)\n",
    "        self.phi = phi\n",
    "        y_hat = phi @ self.W + self.bias\n",
    "        return(y_hat)\n",
    "    def grad(self, x, y):\n",
    "        \n",
    "        # Forward\n",
    "        y_hat = self.forward(x)\n",
    "        # grad\n",
    "        error1 = y_hat - y\n",
    "        error = (np.expand_dims(self.W, 0)*np.expand_dims(error1, 1)).sum(-1)  # sample * neuron_num\n",
    "\n",
    "        grad_W = (np.expand_dims(self.phi,-1)*np.expand_dims(error1, 1)).sum(0)\n",
    "\n",
    "        grad_mu = (np.expand_dims(self.phi,1)*(np.expand_dims(x,-1)-np.expand_dims(self.mu,0))/np.expand_dims(self.sigma,0)**2)*np.expand_dims(error, 1)\n",
    "        grad_mu = grad_mu.mean(0)\n",
    "\n",
    "        grad_sigma = (np.expand_dims(self.phi,1)*(np.expand_dims(x,-1)-np.expand_dims(self.mu,0))**2/np.expand_dims(self.sigma,0)**3)*np.expand_dims(error, 1)\n",
    "        grad_sigma = grad_sigma.mean(0)\n",
    "\n",
    "        grad_bias = error1.mean(-1).mean(0)\n",
    "        return(grad_W, grad_mu, grad_sigma, grad_bias)\n",
    "    def Train(self, x, y, iteration_num = 1000, learning_rate = 0.01):\n",
    "        # self.center_init(x)\n",
    "        for i in range(iteration_num):\n",
    "            grad_W, grad_mu, grad_sigma, grad_bias = self.grad(x, y)\n",
    "            # self.W -= learning_rate * grad_W\n",
    "            self.mu -= learning_rate * grad_mu\n",
    "            self.sigma -= learning_rate * grad_sigma\n",
    "            self.bias -= learning_rate * grad_bias\n",
    "            self.forward(x)\n",
    "            self.W = np.linalg.pinv(self.phi)@(y)\n",
    "            "
   ]
  },
  {
   "cell_type": "code",
   "execution_count": 2,
   "metadata": {},
   "outputs": [],
   "source": [
    "def FeatureExtraction(X):\n",
    "    return(np.asarray([np.var(X,1),np.mean(X**2,1),np.mean(np.abs(X),1),np.var(X,1),np.max(X,1),np.exp(np.mean(np.log(np.abs(X)),1))]).T)"
   ]
  },
  {
   "cell_type": "code",
   "execution_count": 3,
   "metadata": {},
   "outputs": [],
   "source": [
    "temp = np.load('TrainData.npy', allow_pickle=True).reshape([-1])[0]['x']"
   ]
  },
  {
   "cell_type": "code",
   "execution_count": 4,
   "metadata": {},
   "outputs": [
    {
     "name": "stderr",
     "output_type": "stream",
     "text": [
      "C:\\Users\\kiano\\AppData\\Local\\Temp/ipykernel_12912/2163556519.py:2: RuntimeWarning: divide by zero encountered in log\n",
      "  return(np.asarray([np.var(X,1),np.mean(X**2,1),np.mean(np.abs(X),1),np.var(X,1),np.max(X,1),np.exp(np.mean(np.log(np.abs(X)),1))]).T)\n"
     ]
    }
   ],
   "source": [
    "temp = np.load('TrainData.npy', allow_pickle=True)\n",
    "X = FeatureExtraction(temp.reshape([-1])[0]['x'])\n",
    "temp = temp.reshape([-1])[0]['y'].reshape([-1,1])\n",
    "temp2 = np.zeros([temp.shape[0],10])\n",
    "for i in range(temp2.shape[0]):\n",
    "    temp2[i,temp[i]-1] = 1\n",
    "Y = temp2\n"
   ]
  },
  {
   "cell_type": "code",
   "execution_count": 5,
   "metadata": {},
   "outputs": [],
   "source": [
    "# model = RBFnn(X.shape[1], 20, Y.shape[1])\n",
    "# model.center_init(X)\n",
    "# batch_size = X.shape[0]\n",
    "# Epoch_num = 1000\n",
    "# steps = int(X.shape[0]/batch_size)\n",
    "# for Epoch in range(Epoch_num):\n",
    "#     for j in range(steps):\n",
    "#         idx = np.random.choice(X.shape[0], batch_size)\n",
    "#         model.Train(X[idx], Y[idx], 1, 0.01)\n",
    "# y_hat = model.forward(X)"
   ]
  },
  {
   "cell_type": "code",
   "execution_count": 6,
   "metadata": {},
   "outputs": [
    {
     "name": "stderr",
     "output_type": "stream",
     "text": [
      "c:\\ProgramData\\Anaconda3\\lib\\site-packages\\sklearn\\cluster\\_kmeans.py:1334: UserWarning: KMeans is known to have a memory leak on Windows with MKL, when there are less chunks than available threads. You can avoid it by setting the environment variable OMP_NUM_THREADS=5.\n",
      "  warnings.warn(\n"
     ]
    }
   ],
   "source": [
    "model = RBFnn(X.shape[1], 20, Y.shape[1])\n",
    "model.center_init(X)\n",
    "model.Train(X, Y, 1000, 0.1)\n",
    "y_hat = model.forward(X)"
   ]
  },
  {
   "cell_type": "code",
   "execution_count": 18,
   "metadata": {},
   "outputs": [],
   "source": [
    "temp = np.load('TestData.npy', allow_pickle=True)\n",
    "X = FeatureExtraction(temp.reshape([-1])[0]['x'])\n",
    "temp = temp.reshape([-1])[0]['y'].reshape([-1,1])\n",
    "temp2 = np.zeros([temp.shape[0],10])\n",
    "for i in range(temp2.shape[0]):\n",
    "    temp2[i,temp[i]-1] = 1\n",
    "Y = temp2"
   ]
  },
  {
   "cell_type": "code",
   "execution_count": 19,
   "metadata": {},
   "outputs": [
    {
     "data": {
      "text/plain": [
       "0.9007518796992481"
      ]
     },
     "execution_count": 19,
     "metadata": {},
     "output_type": "execute_result"
    }
   ],
   "source": [
    "y_hat = model.forward(X).argmax(1)\n",
    "y_real = Y.argmax(1)\n",
    "np.mean(y_hat==y_real)"
   ]
  },
  {
   "cell_type": "code",
   "execution_count": 20,
   "metadata": {},
   "outputs": [
    {
     "data": {
      "image/png": "[encoded data removed]",
      "text/plain": [
       "<Figure size 360x288 with 2 Axes>"
      ]
     },
     "metadata": {
      "needs_background": "light"
     },
     "output_type": "display_data"
    }
   ],
   "source": [
    "import seaborn as sns\n",
    "from sklearn.metrics import confusion_matrix\n",
    "import pandas as pd\n",
    "cm = confusion_matrix(y_hat, y_real)\n",
    "cm_df = pd.DataFrame(cm)\n",
    "\n",
    "plt.figure(figsize=(5,4))\n",
    "sns.heatmap(cm_df, cmap=\"Blues\", annot=True)#, vmin=0, vmax=0.5\n",
    "plt.title('Confusion Matrix')\n",
    "plt.ylabel('Actal Values')\n",
    "plt.xlabel('Predicted Values')\n",
    "plt.show()"
   ]
  }
 ],
 "metadata": {
  "kernelspec": {
   "display_name": "py310",
   "language": "python",
   "name": "python3"
  },
  "language_info": {
   "codemirror_mode": {
    "name": "ipython",
    "version": 3
   },
   "file_extension": ".py",
   "mimetype": "text/x-python",
   "name": "python",
   "nbconvert_exporter": "python",
   "pygments_lexer": "ipython3",
   "version": "3.9.7"
  }
 },
 "nbformat": 4,
 "nbformat_minor": 2
}
